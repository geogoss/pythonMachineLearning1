{
 "cells": [
  {
   "cell_type": "code",
   "execution_count": 2,
   "id": "d38f4460-fe8f-415f-9df9-05e8cddad7be",
   "metadata": {},
   "outputs": [],
   "source": [
    "import numpy as np\n",
    "from sklearn.datasets import make_regression\n",
    "import matplotlib.pyplot as plt"
   ]
  },
  {
   "cell_type": "code",
   "execution_count": 4,
   "id": "58009ffb-8627-45d4-9627-7be4d0badf21",
   "metadata": {},
   "outputs": [
    {
     "data": {
      "text/plain": [
       "<matplotlib.collections.PathCollection at 0x23cfeccec10>"
      ]
     },
     "execution_count": 4,
     "metadata": {},
     "output_type": "execute_result"
    },
    {
     "data": {
      "image/png": "[encoded data removed]",
      "text/plain": [
       "<Figure size 432x288 with 1 Axes>"
      ]
     },
     "metadata": {
      "needs_background": "light"
     },
     "output_type": "display_data"
    }
   ],
   "source": [
    "x, y = make_regression(n_samples=100, n_features=1, noise=10)\n",
    "plt.scatter(x, y)"
   ]
  },
  {
   "cell_type": "code",
   "execution_count": 8,
   "id": "5cf3f4c6-2f73-4f1d-aae1-914b1adac8ea",
   "metadata": {},
   "outputs": [
    {
     "name": "stdout",
     "output_type": "stream",
     "text": [
      "(100, 1)\n",
      "(100, 1)\n"
     ]
    }
   ],
   "source": [
    "print(x.shape)\n",
    "y = y.reshape(y.shape[0], 1)\n",
    "print(y.shape)"
   ]
  },
  {
   "cell_type": "code",
   "execution_count": 14,
   "id": "5f736942-ae6d-40eb-9039-2c839d66e787",
   "metadata": {},
   "outputs": [
    {
     "data": {
      "text/plain": [
       "array([[ 0.06725874,  1.        ],\n",
       "       [-0.73708615,  1.        ],\n",
       "       [ 0.31433121,  1.        ],\n",
       "       [ 0.97149864,  1.        ],\n",
       "       [ 0.60349931,  1.        ],\n",
       "       [ 1.45976324,  1.        ],\n",
       "       [ 1.45620783,  1.        ],\n",
       "       [ 0.13133477,  1.        ],\n",
       "       [ 0.47058016,  1.        ],\n",
       "       [ 0.93174072,  1.        ],\n",
       "       [ 1.61093199,  1.        ],\n",
       "       [-0.94418325,  1.        ],\n",
       "       [-0.34742942,  1.        ],\n",
       "       [ 0.33631206,  1.        ],\n",
       "       [ 0.45111245,  1.        ],\n",
       "       [-0.48483305,  1.        ],\n",
       "       [-1.06835606,  1.        ],\n",
       "       [ 1.63659296,  1.        ],\n",
       "       [-0.45769364,  1.        ],\n",
       "       [-0.83999721,  1.        ],\n",
       "       [-0.01248996,  1.        ],\n",
       "       [-1.54400213,  1.        ],\n",
       "       [-1.20175599,  1.        ],\n",
       "       [-1.38841526,  1.        ],\n",
       "       [ 0.37300982,  1.        ],\n",
       "       [ 0.08030373,  1.        ],\n",
       "       [ 0.84819332,  1.        ],\n",
       "       [-0.87186364,  1.        ],\n",
       "       [ 0.40242821,  1.        ],\n",
       "       [ 0.2402744 ,  1.        ],\n",
       "       [ 0.3836112 ,  1.        ],\n",
       "       [-0.71934278,  1.        ],\n",
       "       [-0.02816323,  1.        ],\n",
       "       [ 1.1317782 ,  1.        ],\n",
       "       [-0.02053604,  1.        ],\n",
       "       [ 1.37758991,  1.        ],\n",
       "       [ 0.86265366,  1.        ],\n",
       "       [-0.30282618,  1.        ],\n",
       "       [-0.58042427,  1.        ],\n",
       "       [-2.28861709,  1.        ],\n",
       "       [ 0.79681362,  1.        ],\n",
       "       [ 1.24433178,  1.        ],\n",
       "       [-0.33708394,  1.        ],\n",
       "       [ 0.57032458,  1.        ],\n",
       "       [-0.76851731,  1.        ],\n",
       "       [-0.09181818,  1.        ],\n",
       "       [-0.49532626,  1.        ],\n",
       "       [-0.60665797,  1.        ],\n",
       "       [-0.35669549,  1.        ],\n",
       "       [ 0.64418512,  1.        ],\n",
       "       [ 0.14869848,  1.        ],\n",
       "       [ 0.93978605,  1.        ],\n",
       "       [ 2.21501416,  1.        ],\n",
       "       [ 1.06576243,  1.        ],\n",
       "       [ 0.90824343,  1.        ],\n",
       "       [-2.39247567,  1.        ],\n",
       "       [ 0.82023173,  1.        ],\n",
       "       [ 0.15583839,  1.        ],\n",
       "       [-0.58308296,  1.        ],\n",
       "       [ 1.33822937,  1.        ],\n",
       "       [-0.14150574,  1.        ],\n",
       "       [-0.26534127,  1.        ],\n",
       "       [ 1.36873813,  1.        ],\n",
       "       [-0.44235692,  1.        ],\n",
       "       [ 0.88966251,  1.        ],\n",
       "       [-0.12889669,  1.        ],\n",
       "       [ 0.66728062,  1.        ],\n",
       "       [-0.49800964,  1.        ],\n",
       "       [-1.70491273,  1.        ],\n",
       "       [ 0.21428479,  1.        ],\n",
       "       [ 0.63940225,  1.        ],\n",
       "       [ 0.48408211,  1.        ],\n",
       "       [ 1.10570694,  1.        ],\n",
       "       [ 0.77327366,  1.        ],\n",
       "       [-0.67020708,  1.        ],\n",
       "       [ 0.20747939,  1.        ],\n",
       "       [ 0.83313363,  1.        ],\n",
       "       [-1.94954851,  1.        ],\n",
       "       [-1.11485232,  1.        ],\n",
       "       [-0.36330455,  1.        ],\n",
       "       [-0.55086654,  1.        ],\n",
       "       [ 1.87633492,  1.        ],\n",
       "       [-0.77854854,  1.        ],\n",
       "       [ 0.11213506,  1.        ],\n",
       "       [-0.96001249,  1.        ],\n",
       "       [ 0.65792494,  1.        ],\n",
       "       [ 0.01679517,  1.        ],\n",
       "       [ 1.17351254,  1.        ],\n",
       "       [ 0.78175451,  1.        ],\n",
       "       [-0.24532107,  1.        ],\n",
       "       [ 1.81815371,  1.        ],\n",
       "       [-0.5996165 ,  1.        ],\n",
       "       [-0.08393399,  1.        ],\n",
       "       [ 1.24626702,  1.        ],\n",
       "       [-2.57497835,  1.        ],\n",
       "       [-0.82704976,  1.        ],\n",
       "       [-0.34369188,  1.        ],\n",
       "       [-0.35831382,  1.        ],\n",
       "       [-1.09044635,  1.        ],\n",
       "       [ 1.74538602,  1.        ]])"
      ]
     },
     "execution_count": 14,
     "metadata": {},
     "output_type": "execute_result"
    }
   ],
   "source": [
    "# matrice x\n",
    "X = np.hstack((x, np.ones(x.shape)))\n",
    "X.shape\n",
    "X"
   ]
  },
  {
   "cell_type": "code",
   "execution_count": 16,
   "id": "5b7b11b9-5501-48cc-8933-064dc2b07df3",
   "metadata": {},
   "outputs": [
    {
     "data": {
      "text/plain": [
       "array([[0.30375677],\n",
       "       [0.11044691]])"
      ]
     },
     "execution_count": 16,
     "metadata": {},
     "output_type": "execute_result"
    }
   ],
   "source": [
    "theta = np.random.randn(2, 1)\n",
    "theta.shape\n",
    "theta"
   ]
  },
  {
   "cell_type": "code",
   "execution_count": 17,
   "id": "d6591fcd-86f7-49dd-b6ee-1efa8d34a858",
   "metadata": {},
   "outputs": [],
   "source": [
    "#Modèle"
   ]
  },
  {
   "cell_type": "code",
   "execution_count": 18,
   "id": "0c447817-b6f3-4454-b3a7-e6cc5f10dfc5",
   "metadata": {},
   "outputs": [],
   "source": [
    "def model(X, theta):\n",
    "    return X.dot(theta)"
   ]
  },
  {
   "cell_type": "code",
   "execution_count": 22,
   "id": "3dac3ec3-cec0-446f-8a3a-e800709bf081",
   "metadata": {},
   "outputs": [
    {
     "data": {
      "text/plain": [
       "[<matplotlib.lines.Line2D at 0x23c8119b220>]"
      ]
     },
     "execution_count": 22,
     "metadata": {},
     "output_type": "execute_result"
    },
    {
     "data": {
      "image/png": "[encoded data removed]",
      "text/plain": [
       "<Figure size 432x288 with 1 Axes>"
      ]
     },
     "metadata": {
      "needs_background": "light"
     },
     "output_type": "display_data"
    }
   ],
   "source": [
    "plt.scatter(x, y)\n",
    "plt.plot(x, model(X, theta), c='r')\n"
   ]
  },
  {
   "cell_type": "code",
   "execution_count": 23,
   "id": "c9349510-2b72-4683-81bf-d1ff68113703",
   "metadata": {},
   "outputs": [],
   "source": [
    "#Fonction cout = l'erreur quadratique moyenne"
   ]
  },
  {
   "cell_type": "code",
   "execution_count": 25,
   "id": "85fa28ec-c520-4b5b-be76-4057f5ce06f3",
   "metadata": {},
   "outputs": [],
   "source": [
    "def cost_function(X, y, theta) :\n",
    "    m = len(y)\n",
    "    return 1/(2*m) * np.sum((model(X, theta) - y)**2)"
   ]
  },
  {
   "cell_type": "code",
   "execution_count": 26,
   "id": "84720a0c-7caa-4d27-b6f0-a447ee969688",
   "metadata": {},
   "outputs": [
    {
     "data": {
      "text/plain": [
       "1574.7176711988513"
      ]
     },
     "execution_count": 26,
     "metadata": {},
     "output_type": "execute_result"
    }
   ],
   "source": [
    "cost_function(X, y, theta)"
   ]
  },
  {
   "cell_type": "code",
   "execution_count": 27,
   "id": "0d8cfd7d-c92b-4b24-82c9-f0d702991836",
   "metadata": {},
   "outputs": [],
   "source": [
    "# 4.Gradient et descente de gradient"
   ]
  },
  {
   "cell_type": "code",
   "execution_count": 28,
   "id": "c5785611-6949-4f2d-bb1a-c1522bd4645b",
   "metadata": {},
   "outputs": [],
   "source": [
    "def grad(X, y, theta):\n",
    "    m = len(y)\n",
    "    return 1/m * X.T.dot(model(X, theta) - y)"
   ]
  },
  {
   "cell_type": "code",
   "execution_count": 51,
   "id": "442ccd09-9723-486d-8a52-4def4b50f24e",
   "metadata": {},
   "outputs": [],
   "source": [
    "def gradient_descent(X, y, theta, learning_rate, n_iterations):\n",
    "    cost_history = np.zeros(n_iterations)\n",
    "    for i in range(0, n_iterations):\n",
    "        theta = theta - learning_rate * grad(X, y, theta)\n",
    "        cost_history[i] = cost_function(X, y, theta)\n",
    "    return theta, cost_history"
   ]
  },
  {
   "cell_type": "code",
   "execution_count": 52,
   "id": "63837dbc-f8f7-473c-bba2-ff9a4b2e2a7b",
   "metadata": {},
   "outputs": [],
   "source": [
    "# 5. Entrainement du modèle\n",
    "# Machine Learning"
   ]
  },
  {
   "cell_type": "code",
   "execution_count": 53,
   "id": "a80e5bde-6c14-4e0f-9ef6-15d62e5caf75",
   "metadata": {},
   "outputs": [],
   "source": [
    "theta_final, cost_history = gradient_descent(X, y, theta, learning_rate=0.01, n_iterations=1000)"
   ]
  },
  {
   "cell_type": "code",
   "execution_count": 54,
   "id": "0d45fda6-26e3-4384-900a-64aacc68c167",
   "metadata": {},
   "outputs": [
    {
     "data": {
      "text/plain": [
       "array([[56.86565033],\n",
       "       [ 0.40939484]])"
      ]
     },
     "execution_count": 54,
     "metadata": {},
     "output_type": "execute_result"
    }
   ],
   "source": [
    "theta_final"
   ]
  },
  {
   "cell_type": "code",
   "execution_count": 55,
   "id": "4a655470-fc7a-47da-a0d2-e1f039cd8749",
   "metadata": {},
   "outputs": [
    {
     "data": {
      "text/plain": [
       "[<matplotlib.lines.Line2D at 0x23c816b49a0>]"
      ]
     },
     "execution_count": 55,
     "metadata": {},
     "output_type": "execute_result"
    },
    {
     "data": {
      "image/png": "[encoded data removed]",
      "text/plain": [
       "<Figure size 432x288 with 1 Axes>"
      ]
     },
     "metadata": {
      "needs_background": "light"
     },
     "output_type": "display_data"
    }
   ],
   "source": [
    "predictions = model(X, theta_final)\n",
    "plt.scatter(x, y)\n",
    "plt.plot(x, predictions, c='r')"
   ]
  },
  {
   "cell_type": "code",
   "execution_count": 56,
   "id": "db18ba53-4959-4004-817b-72f61ad4f0c7",
   "metadata": {},
   "outputs": [
    {
     "data": {
      "text/plain": [
       "[<matplotlib.lines.Line2D at 0x23c817158e0>]"
      ]
     },
     "execution_count": 56,
     "metadata": {},
     "output_type": "execute_result"
    },
    {
     "data": {
      "image/png": "[encoded data removed]",
      "text/plain": [
       "<Figure size 432x288 with 1 Axes>"
      ]
     },
     "metadata": {
      "needs_background": "light"
     },
     "output_type": "display_data"
    }
   ],
   "source": [
    "plt.plot(range(1000), cost_history)"
   ]
  },
  {
   "cell_type": "code",
   "execution_count": 57,
   "id": "16c15947-7ecf-4e05-af5b-66a43f92bd3e",
   "metadata": {},
   "outputs": [],
   "source": [
    "# 7. Le coéfficient de détermination => R²"
   ]
  },
  {
   "cell_type": "code",
   "execution_count": 58,
   "id": "ac8483ec-11fb-4218-bbe4-e44386ff546a",
   "metadata": {},
   "outputs": [],
   "source": [
    "def coef_determination(y, pred):\n",
    "    u = ((y - pred)**2).sum()\n",
    "    v = ((y - y.mean())**2).sum()\n",
    "    return 1 - u/v"
   ]
  },
  {
   "cell_type": "code",
   "execution_count": 59,
   "id": "815715cc-60e4-49b3-a2b3-db0138d77439",
   "metadata": {},
   "outputs": [
    {
     "data": {
      "text/plain": [
       "0.9669238962870712"
      ]
     },
     "execution_count": 59,
     "metadata": {},
     "output_type": "execute_result"
    }
   ],
   "source": [
    "coef_determination(y, predictions)"
   ]
  },
  {
   "cell_type": "code",
   "execution_count": null,
   "id": "e2ce6444-dc83-4672-a496-5de485dcdb60",
   "metadata": {},
   "outputs": [],
   "source": []
  }
 ],
 "metadata": {
  "kernelspec": {
   "display_name": "Python 3 (ipykernel)",
   "language": "python",
   "name": "python3"
  },
  "language_info": {
   "codemirror_mode": {
    "name": "ipython",
    "version": 3
   },
   "file_extension": ".py",
   "mimetype": "text/x-python",
   "name": "python",
   "nbconvert_exporter": "python",
   "pygments_lexer": "ipython3",
   "version": "3.9.7"
  }
 },
 "nbformat": 4,
 "nbformat_minor": 5
}
